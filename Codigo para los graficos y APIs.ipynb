{
 "cells": [
  {
   "cell_type": "markdown",
   "metadata": {},
   "source": [
    "APERTURA DE PRIMERA BASE DA DATOS\n"
   ]
  },
  {
   "cell_type": "code",
   "execution_count": 2,
   "metadata": {},
   "outputs": [
    {
     "name": "stdout",
     "output_type": "stream",
     "text": [
      "Error: No se encontró el archivo en la ruta especificada: C:\\Users\\usuario\\Desktop\\Documentos, tareas de carlos. Con respecto a la universidad\\world-happiness-report-2023.txt\n"
     ]
    }
   ],
   "source": [
    "import pandas as pd\n",
    "\n",
    "# Ruta del archivo\n",
    "ruta_archivo = r\"C:\\Users\\usuario\\Desktop\\Documentos, tareas de carlos. Con respecto a la universidad\\world-happiness-report-2023.txt\"\n",
    "\n",
    "try:\n",
    "    # Cargar el archivo como un DataFrame (ajusta el delimitador según corresponda)\n",
    "    df = pd.read_csv(ruta_archivo, sep=\"\\t\", encoding=\"utf-8\")  # Cambia 'sep' según el formato del archivo\n",
    "    print(\"Primeras filas del archivo:\")\n",
    "    print(df.head())  # Muestra las primeras 5 filas del DataFrame\n",
    "except FileNotFoundError:\n",
    "    print(f\"Error: No se encontró el archivo en la ruta especificada: {ruta_archivo}\")\n",
    "except Exception as e:\n",
    "    print(f\"Ocurrió un error al procesar el archivo: {e}\")\n"
   ]
  },
  {
   "cell_type": "code",
   "execution_count": 3,
   "metadata": {},
   "outputs": [
    {
     "name": "stdout",
     "output_type": "stream",
     "text": [
      "Error: No se encontró el archivo en la ruta especificada: C:\\Users\\usuario\\Desktop\\Documentos, tareas de carlos. Con respecto a la universidad\\excel para trabajo final.xlsx\n"
     ]
    }
   ],
   "source": [
    "import pandas as pd\n",
    "\n",
    "# Ruta del archivo Excel\n",
    "ruta_archivo = r\"C:\\Users\\usuario\\Desktop\\Documentos, tareas de carlos. Con respecto a la universidad\\excel para trabajo final.xlsx\"\n",
    "\n",
    "try:\n",
    "    # Cargar el archivo Excel\n",
    "    df = pd.read_excel(ruta_archivo, engine='openpyxl')\n",
    "\n",
    "    # Mostrar los nombres de todas las columnas\n",
    "    print(\"Nombres de las columnas:\")\n",
    "    print(df.columns.tolist())  # Convertir los nombres de las columnas en una lista y mostrarla\n",
    "\n",
    "except FileNotFoundError:\n",
    "    print(f\"Error: No se encontró el archivo en la ruta especificada: {ruta_archivo}\")\n",
    "except Exception as e:\n",
    "    print(f\"Ocurrió un error: {e}\")\n"
   ]
  },
  {
   "cell_type": "code",
   "execution_count": 4,
   "metadata": {},
   "outputs": [
    {
     "ename": "NameError",
     "evalue": "name 'df' is not defined",
     "output_type": "error",
     "traceback": [
      "\u001b[1;31m---------------------------------------------------------------------------\u001b[0m",
      "\u001b[1;31mNameError\u001b[0m                                 Traceback (most recent call last)",
      "Cell \u001b[1;32mIn[4], line 1\u001b[0m\n\u001b[1;32m----> 1\u001b[0m df_peru \u001b[38;5;241m=\u001b[39m df[df[\u001b[38;5;124m'\u001b[39m\u001b[38;5;124mCountry name\u001b[39m\u001b[38;5;124m'\u001b[39m] \u001b[38;5;241m==\u001b[39m \u001b[38;5;124m'\u001b[39m\u001b[38;5;124mPeru\u001b[39m\u001b[38;5;124m'\u001b[39m]\n\u001b[0;32m      2\u001b[0m \u001b[38;5;28mprint\u001b[39m(df_peru)\n",
      "\u001b[1;31mNameError\u001b[0m: name 'df' is not defined"
     ]
    }
   ],
   "source": [
    "df_peru = df[df['Country name'] == 'Peru']\n",
    "print(df_peru)\n"
   ]
  },
  {
   "cell_type": "code",
   "execution_count": 22,
   "metadata": {},
   "outputs": [
    {
     "name": "stdout",
     "output_type": "stream",
     "text": [
      "      year  Perceptions of corruption\n",
      "1534  2006                      0.895\n",
      "1535  2007                      0.931\n",
      "1536  2008                      0.896\n",
      "1537  2009                      0.880\n",
      "1538  2010                      0.881\n",
      "1539  2011                      0.824\n",
      "1540  2012                      0.867\n",
      "1541  2013                      0.870\n",
      "1542  2014                      0.878\n",
      "1543  2015                      0.884\n",
      "1544  2016                      0.866\n",
      "1545  2017                      0.895\n",
      "1546  2018                      0.906\n",
      "1547  2019                      0.874\n",
      "1548  2020                      0.912\n",
      "1549  2021                      0.880\n",
      "1550  2022                      0.884\n"
     ]
    }
   ],
   "source": [
    "import pandas as pd\n",
    "\n",
    "\n",
    "df_peru = df[df['Country name'] == 'Peru']\n",
    "\n",
    "# Seleccionar las columnas 'year' y 'Perceptions of corruption'\n",
    "df_peru_corruption = df_peru[['year', 'Perceptions of corruption']]\n",
    "\n",
    "# Mostrar el DataFrame resultante\n",
    "print(df_peru_corruption)\n"
   ]
  },
  {
   "cell_type": "code",
   "execution_count": 23,
   "metadata": {},
   "outputs": [
    {
     "name": "stdout",
     "output_type": "stream",
     "text": [
      "Requirement already satisfied: matplotlib in c:\\users\\usuario\\anaconda3\\lib\\site-packages (3.7.2)\n",
      "Requirement already satisfied: seaborn in c:\\users\\usuario\\anaconda3\\lib\\site-packages (0.12.2)\n",
      "Requirement already satisfied: contourpy>=1.0.1 in c:\\users\\usuario\\anaconda3\\lib\\site-packages (from matplotlib) (1.0.5)\n",
      "Requirement already satisfied: cycler>=0.10 in c:\\users\\usuario\\anaconda3\\lib\\site-packages (from matplotlib) (0.11.0)\n",
      "Requirement already satisfied: fonttools>=4.22.0 in c:\\users\\usuario\\anaconda3\\lib\\site-packages (from matplotlib) (4.25.0)\n",
      "Requirement already satisfied: kiwisolver>=1.0.1 in c:\\users\\usuario\\anaconda3\\lib\\site-packages (from matplotlib) (1.4.4)\n",
      "Requirement already satisfied: numpy>=1.20 in c:\\users\\usuario\\anaconda3\\lib\\site-packages (from matplotlib) (1.24.3)\n",
      "Requirement already satisfied: packaging>=20.0 in c:\\users\\usuario\\anaconda3\\lib\\site-packages (from matplotlib) (23.1)\n",
      "Requirement already satisfied: pillow>=6.2.0 in c:\\users\\usuario\\anaconda3\\lib\\site-packages (from matplotlib) (9.4.0)\n",
      "Requirement already satisfied: pyparsing<3.1,>=2.3.1 in c:\\users\\usuario\\anaconda3\\lib\\site-packages (from matplotlib) (3.0.9)\n",
      "Requirement already satisfied: python-dateutil>=2.7 in c:\\users\\usuario\\anaconda3\\lib\\site-packages (from matplotlib) (2.8.2)\n",
      "Requirement already satisfied: pandas>=0.25 in c:\\users\\usuario\\anaconda3\\lib\\site-packages (from seaborn) (2.0.3)\n",
      "Requirement already satisfied: pytz>=2020.1 in c:\\users\\usuario\\anaconda3\\lib\\site-packages (from pandas>=0.25->seaborn) (2023.3.post1)\n",
      "Requirement already satisfied: tzdata>=2022.1 in c:\\users\\usuario\\anaconda3\\lib\\site-packages (from pandas>=0.25->seaborn) (2023.3)\n",
      "Requirement already satisfied: six>=1.5 in c:\\users\\usuario\\anaconda3\\lib\\site-packages (from python-dateutil>=2.7->matplotlib) (1.16.0)\n",
      "Note: you may need to restart the kernel to use updated packages.\n"
     ]
    }
   ],
   "source": [
    "pip install matplotlib seaborn\n"
   ]
  },
  {
   "cell_type": "code",
   "execution_count": 25,
   "metadata": {},
   "outputs": [
    {
     "data": {
      "image/png": "[encoded data removed]",
      "text/plain": [
       "<Figure size 1000x600 with 1 Axes>"
      ]
     },
     "metadata": {},
     "output_type": "display_data"
    }
   ],
   "source": [
    "import pandas as pd\n",
    "import matplotlib.pyplot as plt\n",
    "import seaborn as sns\n",
    "\n",
    "\n",
    "df_peru = df[df['Country name'] == 'Peru']  # Filtrar por Perú\n",
    "df_peru_corruption = df_peru[['year', 'Perceptions of corruption']]  # Seleccionar columnas\n",
    "\n",
    "# Crear el gráfico\n",
    "plt.figure(figsize=(10, 6))\n",
    "sns.lineplot(data=df_peru_corruption, x='year', y='Perceptions of corruption', marker='o', color='b')\n",
    "\n",
    "# Personalizar el gráfico\n",
    "plt.title('Evolución de la Percepción de la Corrupción en Perú', fontsize=14)\n",
    "plt.xlabel('Año', fontsize=12)\n",
    "plt.ylabel('Percepción de la Corrupción', fontsize=12)\n",
    "plt.grid(True)\n",
    "plt.xticks(rotation=45)\n",
    "\n",
    "# Mostrar el gráfico\n",
    "plt.tight_layout()\n",
    "plt.show()\n"
   ]
  },
  {
   "cell_type": "code",
   "execution_count": 6,
   "metadata": {},
   "outputs": [
    {
     "name": "stdout",
     "output_type": "stream",
     "text": [
      "      Healthy life expectancy at birth  Log GDP per capita\n",
      "1534                            66.460               8.979\n",
      "1535                            66.720               9.054\n",
      "1536                            66.980               9.134\n",
      "1537                            67.240               9.138\n",
      "1538                            67.500               9.210\n",
      "1539                            67.760               9.263\n",
      "1540                            68.020               9.313\n",
      "1541                            68.280               9.361\n",
      "1542                            68.540               9.374\n",
      "1543                            68.800               9.394\n",
      "1544                            68.975               9.419\n",
      "1545                            69.150               9.429\n",
      "1546                            69.325               9.449\n",
      "1547                            69.500               9.452\n",
      "1548                            69.675               9.322\n",
      "1549                            69.850               9.435\n",
      "1550                            70.025               9.449\n"
     ]
    }
   ],
   "source": [
    "import pandas as pd\n",
    "\n",
    "# Cargar el archivo Excel con la ruta correcta\n",
    "df = pd.read_excel(r'C:\\Users\\usuario\\Desktop\\Documentos, tareas de carlos. Con respecto a la universidad\\excel para trabajo final.xlsx')\n",
    "\n",
    "# Filtrar las filas para solo mostrar los datos de Perú\n",
    "df_peru = df[df['Country name'] == 'Peru']\n",
    "\n",
    "# Seleccionar solo las columnas deseadas\n",
    "df_selected = df_peru[['Healthy life expectancy at birth', 'Log GDP per capita']]\n",
    "\n",
    "# Mostrar el DataFrame resultante\n",
    "print(df_selected)\n"
   ]
  },
  {
   "cell_type": "code",
   "execution_count": 9,
   "metadata": {},
   "outputs": [
    {
     "data": {
      "image/png": "[encoded data removed]",
      "text/plain": [
       "<Figure size 1000x600 with 1 Axes>"
      ]
     },
     "metadata": {},
     "output_type": "display_data"
    }
   ],
   "source": [
    "import pandas as pd\n",
    "import matplotlib.pyplot as plt\n",
    "import seaborn as sns\n",
    "\n",
    "df_peru = df[df['Country name'] == 'Peru']\n",
    "\n",
    "\n",
    "\n",
    "df_selected = df_peru[['Healthy life expectancy at birth', 'Log GDP per capita']]\n",
    "\n",
    "plt.figure(figsize=(10, 6))\n",
    "sns.scatterplot(x='Log GDP per capita', y='Healthy life expectancy at birth', data=df_selected)\n",
    "\n",
    "plt.title('Evolución de la Esperanza de Vida con respecto al PBI per cápita en Perú')\n",
    "plt.xlabel('Logaritmo del PBI per cápita')\n",
    "plt.ylabel('Esperanza de vida ')\n",
    "plt.show()\n"
   ]
  },
  {
   "cell_type": "code",
   "execution_count": 12,
   "metadata": {},
   "outputs": [
    {
     "name": "stdout",
     "output_type": "stream",
     "text": [
      "Filas filtradas (países y año 2022):\n",
      "    Country name  year  Life Ladder  Log GDP per capita  Social support  \\\n",
      "59     Argentina  2022        6.261              10.011           0.893   \n",
      "214      Bolivia  2022        5.929               9.014           0.824   \n",
      "258       Brazil  2022        6.257               9.611           0.866   \n",
      "380        Chile  2022        6.415              10.154           0.887   \n",
      "413     Colombia  2022        5.892               9.660           0.877   \n",
      "\n",
      "     Healthy life expectancy at birth  Freedom to make life choices  \\\n",
      "59                             67.250                         0.825   \n",
      "214                            63.750                         0.865   \n",
      "258                            65.925                         0.830   \n",
      "380                            70.450                         0.793   \n",
      "413                            69.525                         0.799   \n",
      "\n",
      "     Generosity  Perceptions of corruption  Positive affect  Negative affect  \n",
      "59       -0.128                      0.810            0.724            0.284  \n",
      "214      -0.080                      0.840            0.738            0.426  \n",
      "258      -0.061                      0.742            0.681            0.341  \n",
      "380      -0.011                      0.796            0.775            0.253  \n",
      "413      -0.162                      0.863            0.762            0.306  \n",
      "Archivo filtrado guardado como 'archivo_filtrado_2022.xlsx'\n"
     ]
    }
   ],
   "source": [
    "import pandas as pd\n",
    "\n",
    "# Ruta del archivo Excel\n",
    "ruta_archivo = r\"C:\\Users\\usuario\\Desktop\\Documentos, tareas de carlos. Con respecto a la universidad\\excel para trabajo final.xlsx\"\n",
    "\n",
    "# Lista de países que queremos filtrar\n",
    "paises_filtrar = [\n",
    "    \"Argentina\", \"Bolivia\", \"Brazil\", \"Chile\", \"Colombia\", \n",
    "    \"Ecuador\", \"Paraguay\", \"Peru\", \"Uruguay\", \"Venezuela\"\n",
    "]\n",
    "\n",
    "try:\n",
    "    # Cargar el archivo Excel\n",
    "    df = pd.read_excel(ruta_archivo, engine='openpyxl')\n",
    "\n",
    "    # Filtrar por países y año\n",
    "    df_filtrado = df[\n",
    "        (df['Country name'].isin(paises_filtrar)) & \n",
    "        (df['year'] == 2022)\n",
    "    ]\n",
    "    \n",
    "    # Mostrar las primeras filas del DataFrame filtrado\n",
    "    print(\"Filas filtradas (países y año 2022):\")\n",
    "    print(df_filtrado.head())\n",
    "\n",
    "    # Guardar el archivo filtrado en un nuevo archivo Excel\n",
    "    df_filtrado.to_excel(\"archivo_filtrado_2022.xlsx\", index=False, engine='openpyxl')\n",
    "    print(\"Archivo filtrado guardado como 'archivo_filtrado_2022.xlsx'\")\n",
    "except FileNotFoundError:\n",
    "    print(f\"Error: No se encontró el archivo en la ruta especificada: {ruta_archivo}\")\n",
    "except Exception as e:\n",
    "    print(f\"Ocurrió un error: {e}\")\n"
   ]
  },
  {
   "cell_type": "code",
   "execution_count": 14,
   "metadata": {},
   "outputs": [
    {
     "name": "stdout",
     "output_type": "stream",
     "text": [
      "Tabla completa de los datos filtrados:\n",
      "+--------------+------+-------------+--------------------+----------------+----------------------------------+------------------------------+------------+---------------------------+-----------------+-----------------+\n",
      "| Country name | year | Life Ladder | Log GDP per capita | Social support | Healthy life expectancy at birth | Freedom to make life choices | Generosity | Perceptions of corruption | Positive affect | Negative affect |\n",
      "+--------------+------+-------------+--------------------+----------------+----------------------------------+------------------------------+------------+---------------------------+-----------------+-----------------+\n",
      "|  Argentina   | 2022 |    6.261    |       10.011       |     0.893      |              67.25               |            0.825             |   -0.128   |           0.81            |      0.724      |      0.284      |\n",
      "|   Bolivia    | 2022 |    5.929    |       9.014        |     0.824      |              63.75               |            0.865             |   -0.08    |           0.84            |      0.738      |      0.426      |\n",
      "|    Brazil    | 2022 |    6.257    |       9.611        |     0.866      |              65.925              |             0.83             |   -0.061   |           0.742           |      0.681      |      0.341      |\n",
      "|    Chile     | 2022 |    6.415    |       10.154       |     0.887      |              70.45               |            0.793             |   -0.011   |           0.796           |      0.775      |      0.253      |\n",
      "|   Colombia   | 2022 |    5.892    |        9.66        |     0.877      |              69.525              |            0.799             |   -0.162   |           0.863           |      0.762      |      0.306      |\n",
      "|   Ecuador    | 2022 |    5.887    |        9.29        |     0.825      |              69.25               |            0.759             |   -0.08    |           0.866           |      0.777      |      0.356      |\n",
      "|   Paraguay   | 2022 |    6.138    |       9.508        |     0.899      |              65.95               |            0.922             |   -0.011   |           0.839           |      0.821      |      0.238      |\n",
      "|     Peru     | 2022 |    5.892    |       9.449        |     0.823      |              70.025              |            0.764             |   -0.178   |           0.884           |      0.755      |      0.378      |\n",
      "|   Uruguay    | 2022 |    6.671    |       10.084       |     0.905      |               67.5               |            0.878             |   -0.052   |           0.631           |      0.775      |      0.267      |\n",
      "|  Venezuela   | 2022 |    5.949    |        nan         |     0.899      |              63.875              |             0.77             |    nan     |           0.798           |      0.754      |      0.292      |\n",
      "+--------------+------+-------------+--------------------+----------------+----------------------------------+------------------------------+------------+---------------------------+-----------------+-----------------+\n"
     ]
    }
   ],
   "source": [
    "from tabulate import tabulate\n",
    "\n",
    "# Crear una tabla con los datos filtrados\n",
    "tabla = tabulate(df_filtrado, headers='keys', tablefmt='pretty', showindex=False)\n",
    "\n",
    "# Mostrar la tabla en la consola\n",
    "print(\"Tabla completa de los datos filtrados:\")\n",
    "print(tabla)\n"
   ]
  },
  {
   "cell_type": "code",
   "execution_count": 15,
   "metadata": {},
   "outputs": [
    {
     "name": "stdout",
     "output_type": "stream",
     "text": [
      "La tabla ha sido guardada como imagen en: tabla_filtrada_imagen.png\n"
     ]
    }
   ],
   "source": [
    "import pandas as pd\n",
    "import matplotlib.pyplot as plt\n",
    "from pandas.plotting import table\n",
    "\n",
    "# Ruta del archivo Excel\n",
    "ruta_archivo = r\"C:\\Users\\usuario\\Desktop\\Documentos, tareas de carlos. Con respecto a la universidad\\excel para trabajo final.xlsx\"\n",
    "\n",
    "# Lista de países que queremos filtrar\n",
    "paises_filtrar = [\n",
    "    \"Argentina\", \"Bolivia\", \"Brazil\", \"Chile\", \"Colombia\", \n",
    "    \"Ecuador\", \"Paraguay\", \"Peru\", \"Uruguay\", \"Venezuela\"\n",
    "]\n",
    "\n",
    "try:\n",
    "    # Cargar el archivo Excel\n",
    "    df = pd.read_excel(ruta_archivo, engine='openpyxl')\n",
    "\n",
    "    # Filtrar por países y año\n",
    "    df_filtrado = df[\n",
    "        (df['Country name'].isin(paises_filtrar)) & \n",
    "        (df['year'] == 2022)\n",
    "    ]\n",
    "\n",
    "    # Crear una figura para la tabla\n",
    "    fig, ax = plt.subplots(figsize=(12, 6))  # Ajustar tamaño de la imagen\n",
    "    ax.axis(\"off\")  # Quitar ejes\n",
    "\n",
    "    # Crear la tabla con los datos filtrados\n",
    "    tabla = table(ax, df_filtrado, loc=\"center\", colWidths=[0.15] * len(df_filtrado.columns))\n",
    "    tabla.auto_set_font_size(False)\n",
    "    tabla.set_fontsize(10)\n",
    "    tabla.scale(1.2, 1.2)  # Ajustar tamaño de la tabla\n",
    "\n",
    "    # Guardar la tabla como imagen\n",
    "    ruta_imagen = \"tabla_filtrada_imagen.png\"\n",
    "    plt.savefig(ruta_imagen, bbox_inches=\"tight\", dpi=300)\n",
    "    plt.close(fig)\n",
    "\n",
    "    print(f\"La tabla ha sido guardada como imagen en: {ruta_imagen}\")\n",
    "\n",
    "except FileNotFoundError:\n",
    "    print(f\"Error: No se encontró el archivo en la ruta especificada: {ruta_archivo}\")\n",
    "except Exception as e:\n",
    "    print(f\"Ocurrió un error: {e}\")\n"
   ]
  },
  {
   "cell_type": "code",
   "execution_count": null,
   "metadata": {},
   "outputs": [],
   "source": []
  },
  {
   "cell_type": "code",
   "execution_count": 20,
   "metadata": {},
   "outputs": [
    {
     "name": "stdout",
     "output_type": "stream",
     "text": [
      "Filas filtradas (países y año 2008):\n",
      "    Country name  year  Life Ladder  Log GDP per capita  Social support  \\\n",
      "45     Argentina  2008        5.961              10.043           0.892   \n",
      "200      Bolivia  2008        5.298               8.740           0.785   \n",
      "244       Brazil  2008        6.691               9.552           0.878   \n",
      "366        Chile  2008        5.789               9.938           0.804   \n",
      "399     Colombia  2008        6.168               9.351           0.880   \n",
      "\n",
      "     Healthy life expectancy at birth  Freedom to make life choices  \\\n",
      "45                              66.06                         0.678   \n",
      "200                             61.30                         0.726   \n",
      "244                             63.58                         0.782   \n",
      "366                             68.14                         0.640   \n",
      "399                             66.76                         0.795   \n",
      "\n",
      "     Generosity  Perceptions of corruption  Positive affect  Negative affect  \n",
      "45       -0.135                      0.865            0.720            0.318  \n",
      "200      -0.093                      0.801            0.723            0.392  \n",
      "244      -0.081                      0.688            0.718            0.265  \n",
      "366       0.078                      0.741            0.706            0.330  \n",
      "399      -0.045                      0.763            0.768            0.307  \n",
      "Archivo filtrado guardado como 'archivo_filtrado_2022.xlsx'\n"
     ]
    }
   ],
   "source": [
    "\n",
    "paises_filtrar = [\n",
    "    \"Argentina\", \"Bolivia\", \"Brazil\", \"Chile\", \"Colombia\", \n",
    "    \"Ecuador\", \"Paraguay\", \"Peru\", \"Uruguay\", \"Venezuela\"\n",
    "]\n",
    "\n",
    "try:\n",
    "\n",
    "    df = pd.read_excel(ruta_archivo, engine='openpyxl')\n",
    "\n",
    "    df_filtrado = df[\n",
    "        (df['Country name'].isin(paises_filtrar)) & \n",
    "        (df['year'] == 2008)\n",
    "    ]\n",
    "    \n",
    "  \n",
    "    print(\"Filas filtradas (países y año 2008):\")\n",
    "    print(df_filtrado.head())\n",
    "    df_filtrado.to_excel(\"archivo_filtrado_2022.xlsx\", index=False, engine='openpyxl')\n",
    "    print(\"Archivo filtrado guardado como 'archivo_filtrado_2022.xlsx'\")\n",
    "except FileNotFoundError:\n",
    "    print(f\"Error: No se encontró el archivo en la ruta especificada: {ruta_archivo}\")\n",
    "except Exception as e:\n",
    "    print(f\"Ocurrió un error: {e}\")\n"
   ]
  },
  {
   "cell_type": "code",
   "execution_count": 20,
   "metadata": {},
   "outputs": [
    {
     "name": "stdout",
     "output_type": "stream",
     "text": [
      "Error: No se encontró el archivo en la ruta especificada: C:\\Users\\usuario\\Desktop\\Documentos, tareas de carlos. Con respecto a la universidad\\excel para trabajo final.xlsx\n"
     ]
    }
   ],
   "source": [
    "import pandas as pd\n",
    "import matplotlib.pyplot as plt\n",
    "from pandas.plotting import table\n",
    "\n",
    "# Ruta del archivo Excel\n",
    "ruta_archivo = r\"C:\\Users\\usuario\\Desktop\\Documentos, tareas de carlos. Con respecto a la universidad\\excel para trabajo final.xlsx\"\n",
    "\n",
    "# Lista de países que queremos filtrar\n",
    "paises_filtrar = [\n",
    "    \"Argentina\", \"Bolivia\", \"Brazil\", \"Chile\", \"Colombia\", \n",
    "    \"Ecuador\", \"Paraguay\", \"Peru\", \"Uruguay\", \"Venezuela\"\n",
    "]\n",
    "\n",
    "try:\n",
    "    # Cargar el archivo Excel\n",
    "    df = pd.read_excel(ruta_archivo, engine='openpyxl')\n",
    "\n",
    "    # Filtrar por países y año\n",
    "    df_filtrado = df[\n",
    "        (df['Country name'].isin(paises_filtrar)) & \n",
    "        (df['year'] == 2008)\n",
    "    ]\n",
    "\n",
    "    # Crear una figura para la tabla\n",
    "    fig, ax = plt.subplots(figsize=(12, 6))  # Ajustar tamaño de la imagen\n",
    "    ax.axis(\"off\")  # Quitar ejes\n",
    "\n",
    "    # Crear la tabla con los datos filtrados\n",
    "    tabla = table(ax, df_filtrado, loc=\"center\", colWidths=[0.15] * len(df_filtrado.columns))\n",
    "    tabla.auto_set_font_size(False)\n",
    "    tabla.set_fontsize(10)\n",
    "    tabla.scale(1.2, 1.2)  # Ajustar tamaño de la tabla\n",
    "\n",
    "    # Guardar la tabla como imagen\n",
    "    ruta_imagen = \"tabla23filtrada_imagen.png\"\n",
    "    plt.savefig(ruta_imagen, bbox_inches=\"tight\", dpi=300)\n",
    "    plt.close(fig)\n",
    "\n",
    "    print(f\"La tabla ha sido guardada como imagen en: {ruta_imagen}\")\n",
    "\n",
    "except FileNotFoundError:\n",
    "    print(f\"Error: No se encontró el archivo en la ruta especificada: {ruta_archivo}\")\n",
    "except Exception as e:\n",
    "    print(f\"Ocurrió un error: {e}\")\n"
   ]
  },
  {
   "cell_type": "code",
   "execution_count": 5,
   "metadata": {},
   "outputs": [
    {
     "name": "stdout",
     "output_type": "stream",
     "text": [
      "Requirement already satisfied: requests in c:\\users\\gabriel\\anaconda3\\lib\\site-packages (2.31.0)\n",
      "Requirement already satisfied: charset-normalizer<4,>=2 in c:\\users\\gabriel\\anaconda3\\lib\\site-packages (from requests) (2.0.4)\n",
      "Requirement already satisfied: idna<4,>=2.5 in c:\\users\\gabriel\\anaconda3\\lib\\site-packages (from requests) (3.4)\n",
      "Requirement already satisfied: urllib3<3,>=1.21.1 in c:\\users\\gabriel\\anaconda3\\lib\\site-packages (from requests) (1.26.16)\n",
      "Requirement already satisfied: certifi>=2017.4.17 in c:\\users\\gabriel\\anaconda3\\lib\\site-packages (from requests) (2023.7.22)\n"
     ]
    }
   ],
   "source": [
    "#API's \n",
    "!pip install requests"
   ]
  },
  {
   "cell_type": "code",
   "execution_count": 6,
   "metadata": {},
   "outputs": [],
   "source": [
    "import pandas as pd"
   ]
  },
  {
   "cell_type": "code",
   "execution_count": 7,
   "metadata": {},
   "outputs": [],
   "source": [
    "URL_BCR=(\"https://estadisticas.bcrp.gob.pe/estadisticas/series/mensuales/resultados/PN01770AM/html\")\n",
    "BCR=pd.read_html(URL_BCR)"
   ]
  },
  {
   "cell_type": "code",
   "execution_count": 8,
   "metadata": {},
   "outputs": [
    {
     "data": {
      "text/html": [
       "<div>\n",
       "<style scoped>\n",
       "    .dataframe tbody tr th:only-of-type {\n",
       "        vertical-align: middle;\n",
       "    }\n",
       "\n",
       "    .dataframe tbody tr th {\n",
       "        vertical-align: top;\n",
       "    }\n",
       "\n",
       "    .dataframe thead th {\n",
       "        text-align: right;\n",
       "    }\n",
       "</style>\n",
       "<table border=\"1\" class=\"dataframe\">\n",
       "  <thead>\n",
       "    <tr style=\"text-align: right;\">\n",
       "      <th></th>\n",
       "      <th>Fecha</th>\n",
       "      <th>Producto bruto interno y demanda interna (índice 2007=100) - PBI</th>\n",
       "    </tr>\n",
       "  </thead>\n",
       "  <tbody>\n",
       "    <tr>\n",
       "      <th>0</th>\n",
       "      <td>Ene03</td>\n",
       "      <td>73.2</td>\n",
       "    </tr>\n",
       "    <tr>\n",
       "      <th>1</th>\n",
       "      <td>Feb03</td>\n",
       "      <td>71.1</td>\n",
       "    </tr>\n",
       "    <tr>\n",
       "      <th>2</th>\n",
       "      <td>Mar03</td>\n",
       "      <td>74.3</td>\n",
       "    </tr>\n",
       "    <tr>\n",
       "      <th>3</th>\n",
       "      <td>Abr03</td>\n",
       "      <td>80.7</td>\n",
       "    </tr>\n",
       "    <tr>\n",
       "      <th>4</th>\n",
       "      <td>May03</td>\n",
       "      <td>83.2</td>\n",
       "    </tr>\n",
       "    <tr>\n",
       "      <th>...</th>\n",
       "      <td>...</td>\n",
       "      <td>...</td>\n",
       "    </tr>\n",
       "    <tr>\n",
       "      <th>257</th>\n",
       "      <td>Jun24</td>\n",
       "      <td>177.6</td>\n",
       "    </tr>\n",
       "    <tr>\n",
       "      <th>258</th>\n",
       "      <td>Jul24</td>\n",
       "      <td>184.2</td>\n",
       "    </tr>\n",
       "    <tr>\n",
       "      <th>259</th>\n",
       "      <td>Ago24</td>\n",
       "      <td>185.7</td>\n",
       "    </tr>\n",
       "    <tr>\n",
       "      <th>260</th>\n",
       "      <td>Sep24</td>\n",
       "      <td>186.3</td>\n",
       "    </tr>\n",
       "    <tr>\n",
       "      <th>261</th>\n",
       "      <td>Oct24</td>\n",
       "      <td>188.2</td>\n",
       "    </tr>\n",
       "  </tbody>\n",
       "</table>\n",
       "<p>262 rows × 2 columns</p>\n",
       "</div>"
      ],
      "text/plain": [
       "     Fecha  Producto bruto interno y demanda interna (índice 2007=100) - PBI\n",
       "0    Ene03                                               73.2               \n",
       "1    Feb03                                               71.1               \n",
       "2    Mar03                                               74.3               \n",
       "3    Abr03                                               80.7               \n",
       "4    May03                                               83.2               \n",
       "..     ...                                                ...               \n",
       "257  Jun24                                              177.6               \n",
       "258  Jul24                                              184.2               \n",
       "259  Ago24                                              185.7               \n",
       "260  Sep24                                              186.3               \n",
       "261  Oct24                                              188.2               \n",
       "\n",
       "[262 rows x 2 columns]"
      ]
     },
     "execution_count": 8,
     "metadata": {},
     "output_type": "execute_result"
    }
   ],
   "source": [
    "df_BCR=BCR[1]\n",
    "df_BCR"
   ]
  },
  {
   "cell_type": "code",
   "execution_count": 9,
   "metadata": {},
   "outputs": [
    {
     "data": {
      "text/plain": [
       "Index(['Fecha', 'Producto bruto interno y demanda interna (índice 2007=100) - PBI'], dtype='object')"
      ]
     },
     "execution_count": 9,
     "metadata": {},
     "output_type": "execute_result"
    }
   ],
   "source": [
    "df_BCR.columns"
   ]
  },
  {
   "cell_type": "code",
   "execution_count": 10,
   "metadata": {},
   "outputs": [
    {
     "data": {
      "text/plain": [
       "'es_ES.UTF-8'"
      ]
     },
     "execution_count": 10,
     "metadata": {},
     "output_type": "execute_result"
    }
   ],
   "source": [
    "import locale\n",
    "locale.setlocale(locale.LC_TIME, 'es_ES.UTF-8')"
   ]
  },
  {
   "cell_type": "code",
   "execution_count": 11,
   "metadata": {},
   "outputs": [],
   "source": [
    "#Limpiar data\n",
    "df_BCR.columns = ['Fecha', 'PBI_Indice']  # Renombrar columnas"
   ]
  },
  {
   "cell_type": "code",
   "execution_count": 12,
   "metadata": {},
   "outputs": [
    {
     "name": "stdout",
     "output_type": "stream",
     "text": [
      "     Fecha  PBI_Indice\n",
      "0    Ene03        73.2\n",
      "1    Feb03        71.1\n",
      "2    Mar03        74.3\n",
      "3    Abr03        80.7\n",
      "4    May03        83.2\n",
      "..     ...         ...\n",
      "257  Jun24       177.6\n",
      "258  Jul24       184.2\n",
      "259  Ago24       185.7\n",
      "260  Sep24       186.3\n",
      "261  Oct24       188.2\n",
      "\n",
      "[262 rows x 2 columns]\n"
     ]
    }
   ],
   "source": [
    "print(df_BCR)"
   ]
  },
  {
   "cell_type": "code",
   "execution_count": 13,
   "metadata": {},
   "outputs": [
    {
     "name": "stdout",
     "output_type": "stream",
     "text": [
      "0      2003\n",
      "1      2003\n",
      "2      2003\n",
      "3      2003\n",
      "4      2003\n",
      "       ... \n",
      "257    2024\n",
      "258    2024\n",
      "259    2024\n",
      "260    2024\n",
      "261    2024\n",
      "Name: Año, Length: 262, dtype: object\n"
     ]
    }
   ],
   "source": [
    "#Promedio móvil\n",
    "df_BCR['Año'] = df_BCR['Fecha'].str[-2:]  # Extraer el año (últimos 2 caracteres)\n",
    "df_BCR['Año'] = '20' + df_BCR['Año']  # Convertir a formato de año completo (Ej. '03' -> '2003')\n",
    "print(df_BCR.Año)\n"
   ]
  },
  {
   "cell_type": "code",
   "execution_count": 14,
   "metadata": {},
   "outputs": [
    {
     "name": "stdout",
     "output_type": "stream",
     "text": [
      "     Año  PBI_Indice\n",
      "0   2003   76.825000\n",
      "1   2004   80.625000\n",
      "2   2005   85.700000\n",
      "3   2006   92.166667\n",
      "4   2007  100.000000\n",
      "5   2008  109.133333\n",
      "6   2009  110.333333\n",
      "7   2010  119.508333\n",
      "8   2011  127.075000\n",
      "9   2012  134.883333\n",
      "10  2013  142.775000\n",
      "11  2014  146.175000\n",
      "12  2015  150.933333\n",
      "13  2016  156.891667\n",
      "14  2017  160.866667\n",
      "15  2018  167.216667\n",
      "16  2019  170.991667\n",
      "17  2020  152.400000\n",
      "18  2021  172.758333\n",
      "19  2022  177.616667\n",
      "20  2023  176.891667\n",
      "21  2024  179.680000\n"
     ]
    }
   ],
   "source": [
    "promedio_años = df_BCR.groupby('Año')['PBI_Indice'].mean().reset_index()\n",
    "print(promedio_años)"
   ]
  },
  {
   "cell_type": "code",
   "execution_count": 27,
   "metadata": {},
   "outputs": [
    {
     "name": "stdout",
     "output_type": "stream",
     "text": [
      "Variación de Crecimiento del PBI de 2018 a 2019: 2.26%\n"
     ]
    }
   ],
   "source": [
    "#Variación 2018-2019:\n",
    "pbi_2019 = promedio_años.loc[promedio_años['Año'] == '2019', 'PBI_Indice'].values[0]\n",
    "pbi_2018 = promedio_años.loc[promedio_años['Año'] == '2018', 'PBI_Indice'].values[0]\n",
    "variacion_crecimiento = ((pbi_2019 - pbi_2018) / pbi_2018) * 100 \n",
    "print(f\"Variación de Crecimiento del PBI de 2018 a 2019: {variacion_crecimiento:.2f}%\")"
   ]
  },
  {
   "cell_type": "code",
   "execution_count": 28,
   "metadata": {},
   "outputs": [
    {
     "name": "stdout",
     "output_type": "stream",
     "text": [
      "Variación de Crecimiento del PBI de 2015 a 2020: 13.29%\n"
     ]
    }
   ],
   "source": [
    "#Crecimiento 2015-2020:\n",
    "pbi_2019 = promedio_años.loc[promedio_años['Año'] == '2019', 'PBI_Indice'].values[0]\n",
    "pbi_2015 = promedio_años.loc[promedio_años['Año'] == '2015', 'PBI_Indice'].values[0]\n",
    "variacion_crecimiento = ((pbi_2019 - pbi_2015) / pbi_2015) * 100 \n",
    "print(f\"Variación de Crecimiento del PBI de 2015 a 2020: {variacion_crecimiento:.2f}%\")"
   ]
  },
  {
   "cell_type": "code",
   "execution_count": 29,
   "metadata": {},
   "outputs": [
    {
     "name": "stdout",
     "output_type": "stream",
     "text": [
      "PBI estimado para 2021: 172.65\n",
      "PBI estimado para 2022: 195.60\n",
      "PBI estimado para 2023: 221.59\n",
      "PBI estimado para 2024: 251.04\n"
     ]
    }
   ],
   "source": [
    "#Escenario alternativo: cálculo\n",
    "pbi_estimado=pbi_2020\n",
    "\n",
    "proyeccion= {}\n",
    "for año in range(2021, 2025):\n",
    "    pbi_estimado *= (1 + variacion_crecimiento / 100)  \n",
    "    proyeccion[año] = pbi_estimado  \n",
    "\n",
    "# Imprimir los resultados\n",
    "for año, pbi_estimado in proyeccion.items():\n",
    "    print(f\"PBI estimado para {año}: {pbi_estimado:.2f}\")"
   ]
  },
  {
   "cell_type": "code",
   "execution_count": 30,
   "metadata": {},
   "outputs": [
    {
     "name": "stdout",
     "output_type": "stream",
     "text": [
      "{2021: 172.65324646643109, 2022: 195.5980545629803, 2023: 221.59212022845588, 2024: 251.04067551720883}\n"
     ]
    }
   ],
   "source": [
    "print(proyeccion)"
   ]
  },
  {
   "cell_type": "code",
   "execution_count": 31,
   "metadata": {},
   "outputs": [
    {
     "data": {
      "image/png": "[encoded data removed]",
      "text/plain": [
       "<Figure size 1000x600 with 1 Axes>"
      ]
     },
     "metadata": {},
     "output_type": "display_data"
    }
   ],
   "source": [
    "#Gráfico\n",
    "\n",
    "años_reales = promedio_años[\"Año\"].astype(str) \n",
    "pbi_reales = promedio_años[\"PBI_Indice\"]\n",
    "años_proyectados = list(proyeccion.keys())\n",
    "pbi_proyectados = list(proyeccion.values())\n",
    "pbi_proyectados = [None] * (len(años_reales) - len(pbi_proyectados)) + pbi_proyectados  \n",
    "\n",
    "\n",
    "\n",
    "plt.figure(figsize=(10,6))\n",
    "plt.plot(años_reales, pbi_reales, label=\"Datos Reales\", color='b', marker='o', linestyle='-', linewidth=2)\n",
    "plt.plot(años_reales, pbi_proyectados, label=\"Datos estimados\", marker='o', linestyle='-', linewidth=2)\n",
    "plt.title(\"Proyección del PBI con y sin COVID-19\", fontsize=14)\n",
    "plt.xlabel(\"Año\", fontsize=12)\n",
    "plt.ylabel(\"Índice del PBI (2007 = 100)\", fontsize=12)\n",
    "plt.legend()\n",
    "plt.grid(True)\n",
    "plt.xticks(rotation=45) \n",
    "plt.show()"
   ]
  },
  {
   "cell_type": "code",
   "execution_count": null,
   "metadata": {},
   "outputs": [],
   "source": [
    "#Interpretación: Es posible observar que debido a la caída de la economía a nivel mundial, si la crisis del COVID-19 no hubiese existido y el patrón de cecimiento económico se hubiese mantenido igual la situación sería radicalmente diferente a la comparación entre lo realmente sucedido, a pesar de demostrar una rápida recuperación."
   ]
  }
 ],
 "metadata": {
  "hide_input": false,
  "kernelspec": {
   "display_name": "base",
   "language": "python",
   "name": "python3"
  },
  "language_info": {
   "codemirror_mode": {
    "name": "ipython",
    "version": 3
   },
   "file_extension": ".py",
   "mimetype": "text/x-python",
   "name": "python",
   "nbconvert_exporter": "python",
   "pygments_lexer": "ipython3",
   "version": "3.11.5"
  },
  "toc": {
   "base_numbering": 1,
   "nav_menu": {},
   "number_sections": true,
   "sideBar": true,
   "skip_h1_title": false,
   "title_cell": "Table of Contents",
   "title_sidebar": "Contents",
   "toc_cell": false,
   "toc_position": {},
   "toc_section_display": true,
   "toc_window_display": false
  }
 },
 "nbformat": 4,
 "nbformat_minor": 4
}
